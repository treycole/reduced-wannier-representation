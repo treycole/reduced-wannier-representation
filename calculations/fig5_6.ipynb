{
 "cells": [
  {
   "cell_type": "code",
   "execution_count": null,
   "metadata": {},
   "outputs": [],
   "source": [
    "from wanpy.wpythtb import *\n",
    "from pythtb import *\n",
    "from models import Haldane\n",
    "\n",
    "import numpy as np\n",
    "import matplotlib.pyplot as plt\n",
    "import matplotlib.path as mpath"
   ]
  },
  {
   "cell_type": "code",
   "execution_count": null,
   "metadata": {},
   "outputs": [],
   "source": [
    "delta = 1\n",
    "t = 1\n",
    "t2 = -0.3\n",
    "\n",
    "n_super_cell = 5\n",
    "model = Haldane(delta, t, t2).make_supercell([[n_super_cell, 0], [0, n_super_cell]])\n",
    "\n",
    "low_E_sites = np.arange(0, model.get_num_orbitals(), 2)\n",
    "n_orb = model.get_num_orbitals()\n",
    "n_occ = int(n_orb/2)\n",
    "\n",
    "u_wfs_full = wf_array(model, [20, 20])\n",
    "u_wfs_full.solve_on_grid([0, 0])\n",
    "chern = u_wfs_full.berry_flux([i for i in range(n_occ)])/(2*np.pi)\n",
    "\n",
    "model_str = f'C={chern:.1f}_Delta={delta}_t={t}_t2={t2}_n_occ={n_occ}'"
   ]
  },
  {
   "cell_type": "code",
   "execution_count": null,
   "metadata": {},
   "outputs": [],
   "source": [
    "sv_dir = 'data'\n",
    "save_name = f'Wan_frac_{model_str}_spread_dict'\n",
    "spread_dict = np.load(f\"{sv_dir}/{save_name}.npy\", allow_pickle=True)\n",
    "spread_dict = spread_dict.item()\n",
    "\n",
    "sv_dir = 'data'\n",
    "save_name = f'Wan_frac_{model_str}_WF_24o25'\n",
    "WF_24 = np.load(f\"{sv_dir}/{save_name}.npy\", allow_pickle=True)\n",
    "WF_24 = WF_24.item()"
   ]
  },
  {
   "cell_type": "code",
   "execution_count": null,
   "metadata": {},
   "outputs": [],
   "source": [
    "n_WFs = np.array(list(spread_dict.keys()))\n",
    "Wf_frac = n_WFs/n_occ # Wannier fraction\n",
    "omega_til_lst = np.array([spread['omega_til'] for spread in list(spread_dict.values())]) # omega tildes\n",
    "omega_i_lst = np.array([spread['omega_i'] for spread in list(spread_dict.values())]) # omega_i s\n",
    "avg_omega_til = omega_til_lst / n_WFs # normalize spread \n",
    "avg_omega_i = omega_i_lst / n_WFs # normalize spread\n",
    "\n",
    "print(f\"# occupied bands: {n_occ}\")\n",
    "\n",
    "plt.scatter(Wf_frac, avg_omega_til, c='r', s=22, marker='o', label=r'$\\langle \\widetilde{\\Omega} \\rangle$') # / # Wannier functions\n",
    "plt.scatter(Wf_frac, avg_omega_i, c='b', s=22, marker='^', label=r'$\\langle \\Omega_I \\rangle$')\n",
    "\n",
    "# plt.ylabel(r'$\\langle \\widetilde{\\Omega} \\rangle$', size=12)\n",
    "# plt.xlabel(r'$n_{W}\\ /\\ n_{\\rm occ}$', size=12)\n",
    "plt.xlabel(r'$f_{W}$', size=12)\n",
    "\n",
    "# plt.title(r\"C=-1.0 $\\Delta$ = 1 $t_0=0.4$ $t'=0.5$\")\n",
    "plt.ylim(-0.01, .28)\n",
    "plt.xlim(0, 1.0)\n",
    "plt.legend(loc='upper left', fontsize=14)\n",
    "\n",
    "plt.subplots_adjust(top=0.98, left=0.1, bottom=0.1, right=0.98)\n",
    "\n",
    "# save_name = f'Delta={delta}_t={t}_t_2={t2}_n_occ={n_occ}'\n",
    "plt.savefig(f'images/Wan_frac_{model_str}.png', dpi=700)"
   ]
  },
  {
   "cell_type": "code",
   "execution_count": null,
   "metadata": {},
   "outputs": [],
   "source": [
    "n_wfs = 24\n",
    "Wf = WF_24\n",
    "trial_wfs = Wf.trial_wfs\n",
    "delta_sites = np.sort(np.array([int(np.where(trial_wfs[i]!=0)[0][0]) for i in range(trial_wfs.shape[0])]))\n",
    "omit_sites = np.setdiff1d(low_E_sites, delta_sites)\n",
    "\n",
    "title = (\n",
    "  \"Haldane model \\n\"\n",
    "  fr\"$C = {chern: .1f}$, $\\Delta = {delta}$, $t= {t: .2f}, t_2 = {t2: .2f}$\"\n",
    "  )\n",
    "\n",
    "kwargs_centers = {'marker': '*', 'c': 'dodgerblue', 'alpha': 0.6} \n",
    "kwargs_omit = {'s': 70, 'marker': 'x', 'c': 'k', 'zorder': 3} \n",
    "kwargs_lat = {'s': 15, 'marker': 'o', 'c': 'k'} \n",
    "\n",
    "fig, ax = plt.subplots(figsize=(5,5))\n",
    "\n",
    "fig, ax = Wf.plot_centers(\n",
    "    title=title, center_scale=8, omit_sites=omit_sites, section_home_cell=False, \n",
    "    color_home_cell=True, translate_centers=True, kwargs_centers=kwargs_centers, \n",
    "    kwargs_lat=kwargs_lat, kwargs_omit=kwargs_omit, pmx=8, pmy=8, legend=True, \n",
    "    fig=fig, ax=ax)\n",
    "\n",
    "ax.set_xticks([])\n",
    "ax.set_yticks([])\n",
    "ax.set_title('')\n",
    "ax.set_aspect('equal')\n",
    "\n",
    "save_name = f'Wan_centers_{model_str}_nWfs={n_wfs}'\n",
    "sv_dir = 'images'\n",
    "file_name = f\"{sv_dir}/{save_name}_centered.png\"\n",
    "\n",
    "plt.subplots_adjust(top=0.98, left=-0.2, bottom=0.01, right=1.2)\n",
    "ax.set_xlim(-6, 7)\n",
    "ax.set_ylim(-7, 7)\n",
    "plt.savefig(file_name, dpi=700, bbox_inches='tight')"
   ]
  },
  {
   "cell_type": "code",
   "execution_count": null,
   "metadata": {},
   "outputs": [],
   "source": []
  }
 ],
 "metadata": {
  "kernelspec": {
   "display_name": "wanpy",
   "language": "python",
   "name": "python3"
  },
  "language_info": {
   "codemirror_mode": {
    "name": "ipython",
    "version": 3
   },
   "file_extension": ".py",
   "mimetype": "text/x-python",
   "name": "python",
   "nbconvert_exporter": "python",
   "pygments_lexer": "ipython3",
   "version": "3.10.16"
  }
 },
 "nbformat": 4,
 "nbformat_minor": 2
}
