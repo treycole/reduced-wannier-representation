{
 "cells": [
  {
   "cell_type": "code",
   "execution_count": null,
   "metadata": {},
   "outputs": [],
   "source": [
    "from wanpy.wpythtb import *\n",
    "from wanpy.plot import *\n",
    "from pythtb import *\n",
    "from models import Haldane\n",
    "import os\n",
    "\n",
    "import numpy as np\n",
    "import matplotlib.pyplot as plt\n",
    "from mpl_toolkits.axes_grid1.inset_locator import inset_axes"
   ]
  },
  {
   "cell_type": "code",
   "execution_count": null,
   "metadata": {},
   "outputs": [],
   "source": [
    "# tight-binding parameters\n",
    "delta = 1\n",
    "t = 1\n",
    "t2 = -0.3\n",
    "\n",
    "n_super_cell = 2\n",
    "model = Haldane(delta, t, t2).make_supercell([[n_super_cell, 0], [0, n_super_cell]])\n",
    "\n",
    "#############\n",
    "\n",
    "n_orb = model.get_num_orbitals()\n",
    "lat_vecs = model.get_lat()\n",
    "orb_vecs = model.get_orb()\n",
    "low_E_sites = np.arange(0, n_orb, 2)\n",
    "high_E_sites = np.arange(1, n_orb, 2)\n",
    "n_occ = int(n_orb/2)\n",
    "\n",
    "bloch_eigstates = Bloch(model, 20, 20)\n",
    "bloch_eigstates.solve_model()\n",
    "chern = bloch_eigstates.chern_num().real\n",
    "\n",
    "model_str = f'C={chern:.1f}_Delta={delta}_t={t}_t2={t2}'\n",
    "\n",
    "print(f\"Low energy sites: {low_E_sites}\")\n",
    "print(f\"High energy sites: {high_E_sites}\")\n",
    "print(f\"Chern # occupied: {chern: .1f}\")"
   ]
  },
  {
   "cell_type": "code",
   "execution_count": null,
   "metadata": {},
   "outputs": [],
   "source": [
    "### Trial wavefunctions\n",
    "\n",
    "# only one should be true\n",
    "low_E = False\n",
    "\n",
    "omit_sites = 6\n",
    "tf_sites = list(np.setdiff1d(low_E_sites, [omit_sites])) # delta on lower energy sites omitting the last site\n",
    "tf_list = [ [(orb, 1)] for orb in tf_sites]\n",
    "n_tfs = len(tf_list)\n",
    "Wan_frac = n_tfs/n_occ\n",
    "\n",
    "save_sfx = model_str + f'_tfx={np.array(tf_sites, dtype=int)}'\n",
    "\n",
    "print(f\"Trial wavefunctions: {tf_list}\")\n",
    "print(f\"# of Wannier functions: {n_tfs}\")\n",
    "print(f\"# of occupied bands: {n_occ}\")\n",
    "print(f\"Wannier fraction: {Wan_frac}\")\n",
    "print(save_sfx)"
   ]
  },
  {
   "cell_type": "code",
   "execution_count": null,
   "metadata": {},
   "outputs": [],
   "source": [
    "sv_dir = 'data'\n",
    "if not os.path.exists(sv_dir):\n",
    "    os.makedirs(sv_dir)\n",
    "    \n",
    "sv_prefix = 'WF_max_loc'\n",
    "file_name = f\"{sv_dir}/{sv_prefix}_{save_sfx}\"\n",
    "\n",
    "WF = np.load(f\"{file_name}.npy\", allow_pickle=True).item()\n",
    "\n",
    "sv_prefix = 'WF_loc_steps'\n",
    "file_name = f\"{sv_dir}/{sv_prefix}_{save_sfx}\"\n",
    "\n",
    "loc_steps = np.load(f\"{file_name}.npy\", allow_pickle=True).item()"
   ]
  },
  {
   "cell_type": "code",
   "execution_count": null,
   "metadata": {},
   "outputs": [],
   "source": [
    "for key, val in loc_steps.items():\n",
    "    print(f\"{key}: Omega = {sum(val['Omega'])/3: .4f}\")"
   ]
  },
  {
   "cell_type": "code",
   "execution_count": null,
   "metadata": {},
   "outputs": [],
   "source": [
    "for key, val in loc_steps.items():\n",
    "    print(key, val)"
   ]
  },
  {
   "cell_type": "markdown",
   "metadata": {},
   "source": [
    "# Plotting"
   ]
  },
  {
   "cell_type": "code",
   "execution_count": null,
   "metadata": {},
   "outputs": [],
   "source": [
    "plot_density(WF, 0, show_lattice=False, lat_size=2, cbar=False, return_fig=True, interpolate=False)"
   ]
  },
  {
   "cell_type": "code",
   "execution_count": null,
   "metadata": {},
   "outputs": [],
   "source": [
    "idx = 0\n",
    "fig, ax = plot_decay(WF, idx, fit_rng=[5, 20], return_fig=True)\n",
    "ax.legend(bbox_to_anchor=(0.6, 1.0))\n",
    "inset_ax = inset_axes(ax, width=\"30%\", height=\"30%\", loc='upper right')  # You can adjust size and location\n",
    "fig, inset_ax = plot_density(\n",
    "    WF, idx, show_lattice=False, lat_size=2, cbar=False, interpolate=True, fig=fig, ax=inset_ax, return_fig=True)\n",
    "inset_ax.set_xticks([])\n",
    "inset_ax.set_yticks([])\n",
    "inset_ax.axis('off')\n",
    "plt.subplots_adjust(top=0.98, left=0.12, bottom=0.11, right=0.98)\n",
    "plt.savefig(f'images/decay_and_dens_{save_sfx}.png', dpi=700)"
   ]
  },
  {
   "cell_type": "code",
   "execution_count": null,
   "metadata": {},
   "outputs": [],
   "source": [
    "title = (\n",
    "  \"Haldane model \\n\"\n",
    "  fr\"$C = {chern: .1f}$, $\\Delta = {delta}$, $t= {t: .2f}, t_2 = {t2: .2f}$\"\n",
    "  )\n",
    "\n",
    "# kwargs_centers = {'marker': '*', 'c': 'dodgerblue', 'alpha': 0.6} \n",
    "kwargs_centers = {'marker': 'o', 'c': 'dodgerblue', 'alpha': 0.6} \n",
    "# kwargs_omit = {'s': 70, 'marker': 'x', 'c': 'k', 'zorder': 3} \n",
    "kwargs_omit = {'s': 60, 'marker': 'x', 'c': 'crimson', 'zorder': 3} \n",
    "kwargs_lat_ev = {'s': 15, 'marker': 'o', 'c': 'k'} \n",
    "kwargs_lat_odd = {'s': 15, 'marker': 'o', 'facecolors':'none', 'edgecolors':'k'} \n",
    "\n",
    "fig, ax = plot_centers(\n",
    "    WF, title=title, center_scale=50, omit_sites=[omit_sites], section_home_cell=True, \n",
    "    color_home_cell=False, translate_centers=True, kwargs_centers=kwargs_centers, \n",
    "    kwargs_lat_ev=kwargs_lat_ev, kwargs_lat_odd=kwargs_lat_odd, kwargs_omit=kwargs_omit, \n",
    "    pmx=3, pmy=3, legend=True)\n",
    "\n",
    "ax.set_xticks([])\n",
    "ax.set_yticks([])\n",
    "ax.set_title('')\n",
    "\n",
    "sv_dir = 'images'\n",
    "sv_prefix = 'Wan_centers'\n",
    "file_name = f\"{sv_dir}/{sv_prefix}_{save_sfx}.png\"\n",
    "\n",
    "# plt.subplots_adjust(top=1, left=0, bottom=0, right=1)\n",
    "plt.subplots_adjust(top=0.98, left=0.05, bottom=0.01, right=.95)\n",
    "\n",
    "plt.savefig(file_name, dpi=700)"
   ]
  },
  {
   "cell_type": "code",
   "execution_count": null,
   "metadata": {},
   "outputs": [],
   "source": [
    "u_energy = WF.energy_eigstates.get_states()[\"Cell periodic\"]  # energy eigenstates\n",
    "P, Q = WF.energy_eigstates.get_projector(return_Q=True)  # full band projector\n",
    "\n",
    "u_occ = u_energy[..., :n_occ, :]  # occupied energy eigenstates\n",
    "P_occ = np.einsum(\"...ni, ...nj -> ...ij\", u_occ, u_occ.conj())  # occupied band projector\n",
    "Q_occ = np.eye(P_occ.shape[-1]) - P_occ[..., :, :]  # occ complement\n",
    "\n",
    "u_tilde = WF.tilde_states.get_states()[\"Cell periodic\"]  # reduced tilde states\n",
    "P_triv, Q_triv = WF.tilde_states.get_projector(return_Q=True)  # tilde space projectors\n",
    "\n",
    "## Projectors on full mesh\n",
    "P_top = P_occ - P_triv  # complementary subspace\n",
    "Q_top =  np.eye(P_top.shape[-1]) - P_top[..., :, :] \n",
    "\n",
    "eigvals, eigvecs = np.linalg.eigh(P_top)  # states spanning complement\n",
    "u_top = eigvecs[..., :, -1]  # take state with non-zero eigval\n",
    "u_top = u_top[..., np.newaxis, :]  # single state"
   ]
  },
  {
   "cell_type": "code",
   "execution_count": null,
   "metadata": {},
   "outputs": [],
   "source": [
    "k_path = [[0, 0], [2/3, 1/3], [.5, .5], [1/3, 2/3], [0, 0], [.5, .5]]\n",
    "k_label = (r'$\\Gamma $',r'$K$', r'$M$', r'$K^\\prime$', r'$\\Gamma $', r'$M$')\n",
    "(k_vec, k_dist, k_node) = model.k_path(k_path, 501, report=False)\n",
    "\n",
    "# Actual eigenstates and eigenenergies\n",
    "evals, evecs = model.solve_ham(k_vec, return_eigvecs=True)\n",
    "n_eigs = evecs.shape[-2]\n",
    "\n",
    "# Reduced Wannier interpolated energies and states\n",
    "interp_energies_triv, interp_unk_triv = WF.interp_energies(k_vec, ret_eigvecs=True)\n",
    "\n",
    "# Complementary subspace interpolated energies and states\n",
    "interp_energies_top, interp_unk_top = WF.interp_energies(k_vec, u_tilde=u_top, ret_eigvecs=True) "
   ]
  },
  {
   "cell_type": "code",
   "execution_count": null,
   "metadata": {},
   "outputs": [],
   "source": [
    "fig, axs = plt.subplots(3, 1, sharex=True, constrained_layout=True)\n",
    "\n",
    "############# subplot a ####################\n",
    "\n",
    "# Actual bands\n",
    "wt = abs(evecs)**2\n",
    "col = np.sum([ wt[..., i] for i in high_E_sites], axis=0)\n",
    "for n in range(evals.shape[-1]):\n",
    "    axs[0].plot(k_dist, evals[:, n], c='k', lw=2, zorder=0)\n",
    "\n",
    "    scat = axs[0].scatter(\n",
    "        k_dist, evals[:, n], c=col[:, n], \n",
    "        cmap='plasma', marker='o', s=2, vmin=0, vmax=1, zorder=2)\n",
    "    \n",
    "cbar = fig.colorbar(scat, ticks=[1,0], pad=0.01)\n",
    "cbar.ax.set_yticklabels([r'$\\psi_B$', r'$\\psi_A$'], size=12)\n",
    "# cbar.ax.set_yticklabels([])\n",
    "cbar.ax.tick_params(size=0) \n",
    "\n",
    "axs[0].set_xlim(0, k_node[-1])\n",
    "axs[0].set_xticks([ ])\n",
    "for n in range(len(k_node)):\n",
    "    axs[0].axvline(x=k_node[n], linewidth=0.5, color='k', zorder=1)\n",
    "\n",
    "axs[0].set_ylabel(r\"Energy $E(\\mathbf{{k}})$\", size=12)\n",
    "axs[0].yaxis.labelpad = 10\n",
    "axs[0].set_ylim(-3.5, -0.18)\n",
    "\n",
    "axs[0].text(-.1, -0.6, '(a)', size=12)\n",
    "\n",
    "############# subplot b ####################\n",
    "\n",
    "# Actual bands\n",
    "for n in range(evals.shape[-1]):\n",
    "    axs[1].plot(k_dist, evals[:, n], c='k', lw=2, zorder=0, alpha=0.25)\n",
    "\n",
    "# Reduced bands\n",
    "wt = abs(interp_unk_triv)**2\n",
    "col = np.sum([ wt[..., i] for i in high_E_sites], axis=0)\n",
    "for n in range(interp_energies_triv.shape[-1]):\n",
    "    axs[1].plot(k_dist, interp_energies_triv[:, n], c='k', lw=2, zorder=0)\n",
    "\n",
    "    scat = axs[1].scatter(\n",
    "            k_dist, interp_energies_triv[:, n], c=col[:, n], \n",
    "            cmap='plasma', marker='o', s=2, vmin=0, vmax=1, zorder=2\n",
    "            )\n",
    "\n",
    "cbar = fig.colorbar(scat, ticks=[1,0], pad=0.01)\n",
    "cbar.ax.set_yticklabels([r'$\\psi_B$', r'$\\psi_A$'], size=12)\n",
    "cbar.ax.tick_params(size=0) \n",
    "\n",
    "axs[1].set_xlim(0, k_node[-1])\n",
    "axs[1].set_xticks([ ])\n",
    "for n in range(len(k_node)):\n",
    "    axs[1].axvline(x=k_node[n], linewidth=0.5, color='k', zorder=1)\n",
    "\n",
    "axs[1].set_ylabel(r\"Energy $E(\\mathbf{{k}})$\", size=12)\n",
    "axs[1].yaxis.labelpad = 10\n",
    "axs[1].set_ylim(-3.5, -0.18)\n",
    "\n",
    "axs[1].text(-.1, -0.6, '(b)', size=12)\n",
    "\n",
    "############# subplot c ####################\n",
    "\n",
    "# Actual bands\n",
    "for n in range(evals.shape[-1]):\n",
    "    axs[2].plot(k_dist, evals[:, n], c='k', lw=2, zorder=0, alpha=0.25)\n",
    "\n",
    "# topological bands\n",
    "wt = abs(interp_unk_top)**2\n",
    "col = np.sum([ wt[..., i] for i in high_E_sites], axis=0)\n",
    "for n in range(interp_energies_top.shape[-1]):\n",
    "    axs[2].plot(k_dist, interp_energies_top[:, n], c='k', lw=2, zorder=0)\n",
    "\n",
    "    scat = axs[2].scatter(\n",
    "            k_dist, interp_energies_top[:, n], c=col[:, n], \n",
    "            cmap='plasma', marker='o', s=2, vmin=0, vmax=1, zorder=2)\n",
    "\n",
    "cbar = fig.colorbar(scat, ticks=[1,0], pad=0.01)\n",
    "cbar.ax.set_yticklabels([r'$\\psi_B$', r'$\\psi_A$'], size=12)\n",
    "cbar.ax.tick_params(size=0) \n",
    "\n",
    "axs[2].set_xlim(0, k_node[-1])\n",
    "axs[2].set_xticks(k_node)\n",
    "for n in range(len(k_node)):\n",
    "    axs[2].axvline(x=k_node[n], linewidth=0.5, color='k', zorder=1)\n",
    "if k_label is not None:\n",
    "    axs[2].set_xticklabels(k_label, size=12)\n",
    "\n",
    "axs[2].set_ylabel(r\"Energy $E(\\mathbf{{k}})$\", size=12)\n",
    "axs[2].yaxis.labelpad = 10\n",
    "axs[2].set_ylim(-3.5, -0.18)\n",
    "axs[2].text(-.1, -0.6, '(c)', size=12)\n",
    "\n",
    "#######################\n",
    "\n",
    "# plt.subplots_adjust(top=.97, left=0.13, bottom=0.07, right=1.06, hspace=0.07)\n",
    "# fig.set_size_inches()\n",
    "# plt.savefig(f\"images/interp_{band_type}_bands.png\", dpi=700)\n",
    "plt.savefig(f\"images/interp_all_bands_{save_sfx}.png\", dpi=700)"
   ]
  },
  {
   "cell_type": "code",
   "execution_count": null,
   "metadata": {},
   "outputs": [],
   "source": [
    "P_triv.shape"
   ]
  },
  {
   "cell_type": "code",
   "execution_count": null,
   "metadata": {},
   "outputs": [],
   "source": [
    "prod = np.einsum(\"...ij, ...jk -> ...ik\", P_triv, P_top)\n",
    "\n",
    "prod[0,0].round(3)"
   ]
  },
  {
   "cell_type": "code",
   "execution_count": null,
   "metadata": {},
   "outputs": [],
   "source": [
    "pos = {'xs': [], 'ys': []}\n",
    "for i, orb in enumerate(orb_vecs):\n",
    "\n",
    "    # Extract relevant parameters\n",
    "    r = orb[0] * lat_vecs[0] + orb[1] * lat_vecs[1] \n",
    "    x, y = r[0], r[1]\n",
    "\n",
    "    # Store values in 'all'\n",
    "    pos['xs'].append(x)\n",
    "    pos['ys'].append(y)"
   ]
  },
  {
   "cell_type": "code",
   "execution_count": null,
   "metadata": {},
   "outputs": [],
   "source": [
    "x = np.array(pos['xs'])\n",
    "y = np.array(pos['ys'])"
   ]
  },
  {
   "cell_type": "code",
   "execution_count": null,
   "metadata": {},
   "outputs": [],
   "source": [
    "plt.scatter(x, y, c=abs(u_top[13, 6])**2)\n",
    "plt.colorbar()"
   ]
  },
  {
   "cell_type": "code",
   "execution_count": null,
   "metadata": {},
   "outputs": [],
   "source": [
    "plt.scatter(x, y, c=abs(u_top[14, 7])**2)\n",
    "plt.colorbar()"
   ]
  },
  {
   "cell_type": "code",
   "execution_count": null,
   "metadata": {},
   "outputs": [],
   "source": [
    "u_top.shape"
   ]
  },
  {
   "cell_type": "code",
   "execution_count": null,
   "metadata": {},
   "outputs": [],
   "source": [
    "u_top[13, 7]"
   ]
  },
  {
   "cell_type": "code",
   "execution_count": null,
   "metadata": {},
   "outputs": [],
   "source": [
    "u_omit_site = (abs(u_top)**2).round(2)[..., 0, -2]\n",
    "idx = np.where(u_omit_site == np.amin(u_omit_site))"
   ]
  },
  {
   "cell_type": "code",
   "execution_count": null,
   "metadata": {},
   "outputs": [],
   "source": [
    "idx"
   ]
  },
  {
   "cell_type": "code",
   "execution_count": null,
   "metadata": {},
   "outputs": [],
   "source": [
    "u_omit_site[idx]"
   ]
  }
 ],
 "metadata": {
  "kernelspec": {
   "display_name": "wanpy",
   "language": "python",
   "name": "python3"
  },
  "language_info": {
   "codemirror_mode": {
    "name": "ipython",
    "version": 3
   },
   "file_extension": ".py",
   "mimetype": "text/x-python",
   "name": "python",
   "nbconvert_exporter": "python",
   "pygments_lexer": "ipython3",
   "version": "3.10.16"
  }
 },
 "nbformat": 4,
 "nbformat_minor": 2
}
