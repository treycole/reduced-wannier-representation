{
 "cells": [
  {
   "cell_type": "code",
   "execution_count": null,
   "metadata": {},
   "outputs": [],
   "source": [
    "from wanpy.wpythtb import *\n",
    "from wanpy.plot import *\n",
    "from pythtb import *\n",
    "from models import kane_mele\n",
    "\n",
    "import numpy as np\n",
    "import matplotlib.pyplot as plt\n",
    "import pickle\n",
    "import os"
   ]
  },
  {
   "cell_type": "code",
   "execution_count": null,
   "metadata": {},
   "outputs": [],
   "source": [
    "# tight-binding parameters\n",
    "onsite = 1.0  # 1.0 for top, 2.5 for triv\n",
    "t = 1\n",
    "soc = 0.6*t*0.5\n",
    "rashba = 0.25*t\n",
    "\n",
    "n_supercell = 3\n",
    "model = kane_mele(onsite, t, soc, rashba).make_supercell([[n_supercell, 0], [0, n_supercell]])"
   ]
  },
  {
   "cell_type": "code",
   "execution_count": null,
   "metadata": {},
   "outputs": [],
   "source": [
    "n_orb = model.get_num_orbitals()\n",
    "lat_vecs = model.get_lat()\n",
    "orb_vecs = model.get_orb()\n",
    "n_occ = int(n_orb/2)*2\n",
    "low_E_sites = list(np.arange(0, n_orb, 2))\n",
    "high_E_sites = list(np.arange(1, n_orb, 2))\n",
    "\n",
    "model_name = \"kane_mele\"\n",
    "model_str = f't={t}_soc={soc}_onsite={onsite}_n_occ={n_occ}'\n",
    "name = f'Wan_frac_{model_name}_{model_str}'\n",
    "sv_dir = 'data'\n",
    "if not os.path.exists(sv_dir):\n",
    "    os.makedirs(sv_dir)"
   ]
  },
  {
   "cell_type": "code",
   "execution_count": null,
   "metadata": {},
   "outputs": [],
   "source": [
    "spread_dict = np.load(f\"{sv_dir}/{name}_spread_dict.npy\", allow_pickle=True)\n",
    "spread_dict = spread_dict.item()\n",
    "WFs = np.load(f\"{sv_dir}/{name}_WF_16o18.npy\", allow_pickle=True)\n",
    "WFs = WFs.item()"
   ]
  },
  {
   "cell_type": "code",
   "execution_count": null,
   "metadata": {},
   "outputs": [],
   "source": [
    "n_WFs = np.array(list(spread_dict.keys()))\n",
    "Wf_frac = n_WFs/n_occ # Wannier fraction\n",
    "omega_til_lst = np.array([spread['omega_til'] for spread in list(spread_dict.values())]) # omega tildes\n",
    "omega_i_lst = np.array([spread['omega_i'] for spread in list(spread_dict.values())]) # omega_i s\n",
    "avg_omega_til = omega_til_lst / n_WFs # normalize spread \n",
    "avg_omega_i = omega_i_lst / n_WFs # normalize spread\n",
    "\n",
    "print(f\"# occupied bands: {n_occ}\")\n",
    "\n",
    "plt.scatter(Wf_frac, avg_omega_til, c='r', s=22, marker='o', label=r'$\\langle \\widetilde{\\Omega} \\rangle$') # / # Wannier functions\n",
    "plt.scatter(Wf_frac, avg_omega_i, c='b', s=22, marker='^', label=r'$\\langle \\Omega_I \\rangle$')\n",
    "\n",
    "# plt.ylabel(r'$\\langle \\widetilde{\\Omega} \\rangle$', size=12)\n",
    "# plt.xlabel(r'$n_{W}\\ /\\ n_{\\rm occ}$', size=12)\n",
    "plt.xlabel(r'$f_{W}$', size=12)\n",
    "\n",
    "# plt.title(r\"C=-1.0 $\\Delta$ = 1 $t_0=0.4$ $t'=0.5$\")\n",
    "plt.ylim(-0.01, .28)\n",
    "plt.xlim(0, 1.0)\n",
    "plt.legend(loc='upper left', fontsize=14)\n",
    "\n",
    "plt.subplots_adjust(top=0.98, left=0.1, bottom=0.1, right=0.98)\n",
    "\n",
    "# save_name = f'Delta={delta}_t={t}_t_2={t2}_n_occ={n_occ}'\n",
    "plt.savefig(f'images/Wan_frac_{model_str}.png', dpi=700)"
   ]
  },
  {
   "cell_type": "code",
   "execution_count": null,
   "metadata": {},
   "outputs": [],
   "source": [
    "Wf = WFs\n",
    "n_wfs = WFs.n_twfs\n",
    "trial_wfs = Wf.trial_wfs\n",
    "delta_sites = np.sort(np.array([int(np.where(trial_wfs[i]!=0)[0][0]) for i in range(trial_wfs.shape[0])]))\n",
    "omit_sites = np.setdiff1d(low_E_sites, delta_sites)\n",
    "\n",
    "\n",
    "kwargs_centers = {'marker': 'o', 'c': 'dodgerblue', 'alpha': 0.5} \n",
    "# kwargs_centers = {'marker': '*', 'c': 'dodgerblue', 'alpha': 0.6} \n",
    "kwargs_omit = {'s': 60, 'marker': 'x', 'c': 'crimson', 'zorder': 3} \n",
    "# kwargs_omit = {'s': 60, 'marker': 'x', 'c': 'k', 'zorder': 3} \n",
    "kwargs_lat_ev = {'s': 14, 'marker': 'o', 'c': 'k'} \n",
    "kwargs_lat_odd = {'s': 15, 'marker': 'o', 'facecolors':'none', 'edgecolors':'k'} \n",
    "\n",
    "fig, ax = plt.subplots(figsize=(5,5))\n",
    "\n",
    "fig, ax = plot_centers(Wf,\n",
    "    center_scale=20, omit_sites=omit_sites, section_home_cell=True, \n",
    "    color_home_cell=False, translate_centers=True, kwargs_centers=kwargs_centers, \n",
    "    kwargs_lat_ev=kwargs_lat_ev, kwargs_lat_odd=kwargs_lat_odd,\n",
    "    kwargs_omit=kwargs_omit, pmx=5, pmy=5, legend=True, \n",
    "    fig=fig, ax=ax)\n",
    "\n",
    "ax.set_xticks([])\n",
    "ax.set_yticks([])\n",
    "# ax.set_title('')\n",
    "ax.set_aspect('equal')\n",
    "\n",
    "save_name = f'Wan_centers_{model_str}_nWfs={n_wfs}'\n",
    "sv_dir = 'images'\n",
    "file_name = f\"{sv_dir}/{save_name}_centered.png\"\n",
    "\n",
    "plt.subplots_adjust(top=0.98, left=-0.2, bottom=0.01, right=1.2)\n",
    "plt.savefig(file_name, dpi=700, bbox_inches='tight')"
   ]
  },
  {
   "cell_type": "code",
   "execution_count": null,
   "metadata": {},
   "outputs": [],
   "source": [
    "np.sqrt((3*np.sqrt(3)*0.3)**2 - 4*0.25**2)"
   ]
  }
 ],
 "metadata": {
  "kernelspec": {
   "display_name": "wanpy",
   "language": "python",
   "name": "python3"
  },
  "language_info": {
   "codemirror_mode": {
    "name": "ipython",
    "version": 3
   },
   "file_extension": ".py",
   "mimetype": "text/x-python",
   "name": "python",
   "nbconvert_exporter": "python",
   "pygments_lexer": "ipython3",
   "version": "3.10.16"
  }
 },
 "nbformat": 4,
 "nbformat_minor": 2
}
